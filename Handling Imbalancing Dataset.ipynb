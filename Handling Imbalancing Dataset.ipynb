{
 "cells": [
  {
   "cell_type": "code",
   "execution_count": 1,
   "id": "7eff91a4",
   "metadata": {},
   "outputs": [],
   "source": [
    "#Import libraries\n",
    "import warnings\n",
    "warnings.simplefilter('ignore')"
   ]
  },
  {
   "cell_type": "code",
   "execution_count": 2,
   "id": "b824e751",
   "metadata": {},
   "outputs": [],
   "source": [
    "#Required Libraries\n",
    "import pandas as pd\n",
    "import numpy as np\n",
    "import matplotlib.pyplot as plt\n",
    "import seaborn as sns\n",
    "from imblearn.under_sampling import RandomUnderSampler\n",
    "from collections import Counter\n",
    "from sklearn.model_selection import train_test_split"
   ]
  },
  {
   "cell_type": "code",
   "execution_count": 3,
   "id": "f64faf1b",
   "metadata": {},
   "outputs": [],
   "source": [
    "#Import data\n",
    "url = 'https://raw.githubusercontent.com/jackty9/Handling_Imbalanced_Data_in_Python/master/bank-full-encoded.csv'\n",
    "df = pd.read_csv(url)"
   ]
  },
  {
   "cell_type": "code",
   "execution_count": 4,
   "id": "51864051",
   "metadata": {},
   "outputs": [],
   "source": [
    "#Separating independent and dependent variables\n",
    "x = df.iloc[:,:-1]\n",
    "y = df.iloc[:,-1]"
   ]
  },
  {
   "cell_type": "code",
   "execution_count": 5,
   "id": "91e06313",
   "metadata": {},
   "outputs": [],
   "source": [
    "#split train and test\n",
    "xtrain,xtest,ytrain,ytest = train_test_split(x,y,test_size=0.3)"
   ]
  },
  {
   "cell_type": "code",
   "execution_count": 6,
   "id": "2327116a",
   "metadata": {},
   "outputs": [],
   "source": [
    "#Normalaise the data\n",
    "from sklearn.preprocessing import StandardScaler\n",
    "std = StandardScaler()\n",
    "x_train = std.fit_transform(xtrain)\n",
    "x_test = std.transform(xtest)"
   ]
  },
  {
   "cell_type": "code",
   "execution_count": 7,
   "id": "7a36e635",
   "metadata": {},
   "outputs": [
    {
     "name": "stdout",
     "output_type": "stream",
     "text": [
      "Before sampling: Counter({0: 27968, 1: 3679})\n"
     ]
    }
   ],
   "source": [
    "#Summarise the class distribution\n",
    "print('Before sampling:',Counter(ytrain))"
   ]
  },
  {
   "cell_type": "code",
   "execution_count": 8,
   "id": "a41e50ce",
   "metadata": {},
   "outputs": [],
   "source": [
    "#Define undersampling strategy\n",
    "undersample = RandomUnderSampler(sampling_strategy='majority')"
   ]
  },
  {
   "cell_type": "code",
   "execution_count": 9,
   "id": "46e85a58",
   "metadata": {},
   "outputs": [],
   "source": [
    "#Fit and apply the transform\n",
    "x_train_under,y_train_under = undersample.fit_resample(x_train,ytrain)"
   ]
  },
  {
   "cell_type": "code",
   "execution_count": 10,
   "id": "3f81cd07",
   "metadata": {},
   "outputs": [
    {
     "name": "stdout",
     "output_type": "stream",
     "text": [
      "After sampling: Counter({0: 3679, 1: 3679})\n"
     ]
    }
   ],
   "source": [
    "#Summarise the class distribution\n",
    "print('After sampling:',Counter(y_train_under))"
   ]
  },
  {
   "cell_type": "code",
   "execution_count": 11,
   "id": "c2526ad3",
   "metadata": {},
   "outputs": [
    {
     "name": "stdout",
     "output_type": "stream",
     "text": [
      "ROC AUC Score for undersampled data:  0.8294225691236696\n"
     ]
    }
   ],
   "source": [
    "#Import SVM libraries\n",
    "from sklearn.svm import SVC\n",
    "from sklearn.metrics import classification_report,roc_auc_score\n",
    "\n",
    "model = SVC()\n",
    "clf_under = model.fit(x_train_under,y_train_under)\n",
    "pred_under = clf_under.predict(x_test)\n",
    "\n",
    "print(\"ROC AUC Score for undersampled data: \",roc_auc_score(ytest,pred_under))"
   ]
  },
  {
   "cell_type": "code",
   "execution_count": 19,
   "id": "8bf358f4",
   "metadata": {},
   "outputs": [
    {
     "name": "stdout",
     "output_type": "stream",
     "text": [
      "Accuracy of the model after under sampling: 0.8054408728988499\n",
      "Confusion Matrix after under sampling:\n",
      " [[9539 2415]\n",
      " [ 224 1386]]\n"
     ]
    }
   ],
   "source": [
    "from sklearn.metrics import confusion_matrix,accuracy_score\n",
    "print('Accuracy of the model after under sampling:',accuracy_score(ytest,pred_under))\n",
    "print('Confusion Matrix after under sampling:\\n',confusion_matrix(ytest,pred_under))"
   ]
  },
  {
   "cell_type": "markdown",
   "id": "4cc4e5f5",
   "metadata": {},
   "source": [
    "# Over Sampling"
   ]
  },
  {
   "cell_type": "code",
   "execution_count": 22,
   "id": "0cffe11c",
   "metadata": {},
   "outputs": [],
   "source": [
    "from imblearn.over_sampling import SMOTE\n",
    "smote = SMOTE(sampling_strategy='minority')\n",
    "\n",
    "x_train_smote,y_train_smote = smote.fit_resample(x_train,ytrain)"
   ]
  },
  {
   "cell_type": "code",
   "execution_count": 13,
   "id": "6bf3a208",
   "metadata": {},
   "outputs": [
    {
     "name": "stdout",
     "output_type": "stream",
     "text": [
      "ROC AUC Score for oversampled data:  0.8235714129837254\n"
     ]
    }
   ],
   "source": [
    "#Import SVM libraries\n",
    "from sklearn.svm import SVC\n",
    "from sklearn.metrics import classification_report,roc_auc_score\n",
    "\n",
    "model = SVC()\n",
    "clf_smote = model.fit(x_train_smote,y_train_smote)\n",
    "pred_smote = clf_smote.predict(x_test)\n",
    "\n",
    "print(\"ROC AUC Score for oversampled data: \",roc_auc_score(ytest,pred_smote))"
   ]
  },
  {
   "cell_type": "code",
   "execution_count": 15,
   "id": "ab85b5a6",
   "metadata": {},
   "outputs": [
    {
     "data": {
      "text/plain": [
       "0    11954\n",
       "1     1610\n",
       "Name: y, dtype: int64"
      ]
     },
     "execution_count": 15,
     "metadata": {},
     "output_type": "execute_result"
    }
   ],
   "source": [
    "ytest.value_counts()"
   ]
  },
  {
   "cell_type": "code",
   "execution_count": 20,
   "id": "aff6bf1d",
   "metadata": {},
   "outputs": [
    {
     "name": "stdout",
     "output_type": "stream",
     "text": [
      "Accuracy of the model after over sampling: 0.8273370687112946\n",
      "Confusion Matrix after over sampling:\n",
      " [[9904 2050]\n",
      " [ 292 1318]]\n"
     ]
    }
   ],
   "source": [
    "from sklearn.metrics import confusion_matrix,accuracy_score\n",
    "print('Accuracy of the model after over sampling:',accuracy_score(ytest,pred_smote))\n",
    "print('Confusion Matrix after over sampling:\\n',confusion_matrix(ytest,pred_smote))"
   ]
  },
  {
   "cell_type": "markdown",
   "id": "36525ec4",
   "metadata": {},
   "source": [
    "# Both Oversampling and undersampling by using pipeline"
   ]
  },
  {
   "cell_type": "code",
   "execution_count": 33,
   "id": "420c5e76",
   "metadata": {},
   "outputs": [],
   "source": [
    "#Part 1\n",
    "#Import necessary libraries\n",
    "\n",
    "import pandas as pd\n",
    "import numpy as np\n",
    "from collections import Counter\n",
    "from imblearn.under_sampling import RandomUnderSampler\n",
    "from imblearn.over_sampling import SMOTE\n",
    "from imblearn.pipeline import Pipeline\n",
    "from sklearn.model_selection import train_test_split,cross_val_score\n",
    "from sklearn.svm import SVC\n",
    "from sklearn.metrics import classification_report,roc_auc_score"
   ]
  },
  {
   "cell_type": "code",
   "execution_count": 34,
   "id": "488b7348",
   "metadata": {},
   "outputs": [],
   "source": [
    "#Import data\n",
    "url = 'https://raw.githubusercontent.com/jackty9/Handling_Imbalanced_Data_in_Python/master/bank-full-encoded.csv'\n",
    "df = pd.read_csv(url)"
   ]
  },
  {
   "cell_type": "code",
   "execution_count": 35,
   "id": "fbc5cc62",
   "metadata": {},
   "outputs": [],
   "source": [
    "#Separating the independent and dependent variables\n",
    "x = df.iloc[:,:-1]\n",
    "y = df.iloc[:,-1]"
   ]
  },
  {
   "cell_type": "code",
   "execution_count": 39,
   "id": "fa5347d1",
   "metadata": {},
   "outputs": [],
   "source": [
    "# Define pipeline\n",
    "model = SVC()\n",
    "over = SMOTE(sampling_strategy=0.4)\n",
    "under = RandomUnderSampler(sampling_strategy=0.5)\n",
    "steps = [('o',over),('u',under),('model',model)]\n",
    "pipeline = Pipeline()"
   ]
  },
  {
   "cell_type": "code",
   "execution_count": null,
   "id": "0a83fb39",
   "metadata": {},
   "outputs": [],
   "source": []
  }
 ],
 "metadata": {
  "kernelspec": {
   "display_name": "Python 3",
   "language": "python",
   "name": "python3"
  },
  "language_info": {
   "codemirror_mode": {
    "name": "ipython",
    "version": 3
   },
   "file_extension": ".py",
   "mimetype": "text/x-python",
   "name": "python",
   "nbconvert_exporter": "python",
   "pygments_lexer": "ipython3",
   "version": "3.8.8"
  }
 },
 "nbformat": 4,
 "nbformat_minor": 5
}
