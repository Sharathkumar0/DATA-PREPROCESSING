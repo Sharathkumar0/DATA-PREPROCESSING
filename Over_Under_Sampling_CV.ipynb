{
 "cells": [
  {
   "cell_type": "code",
   "execution_count": 31,
   "id": "0e5d1fc7",
   "metadata": {},
   "outputs": [],
   "source": [
    "#Import required libraries\n",
    "import warnings\n",
    "import numpy as np\n",
    "import pandas as pd\n",
    "import matplotlib.pyplot as plt\n",
    "import seaborn as sns\n",
    "from imblearn.under_sampling import RandomUnderSampler\n",
    "from sklearn.model_selection import train_test_split\n",
    "from collections import Counter"
   ]
  },
  {
   "cell_type": "code",
   "execution_count": 5,
   "id": "0ac3ce95",
   "metadata": {},
   "outputs": [],
   "source": [
    "#import data\n",
    "url = 'https://raw.githubusercontent.com/jackty9/Handling_Imbalanced_Data_in_Python/master/bank-full-encoded.csv'\n",
    "data = pd.read_csv(url)"
   ]
  },
  {
   "cell_type": "code",
   "execution_count": 6,
   "id": "182739c9",
   "metadata": {},
   "outputs": [],
   "source": [
    "#Assigning dependent and independent variables\n",
    "x = data.iloc[:,:-1]\n",
    "y = data.iloc[:,-1]"
   ]
  },
  {
   "cell_type": "code",
   "execution_count": 12,
   "id": "0b4e28f9",
   "metadata": {},
   "outputs": [],
   "source": [
    "#split the data for training and testing\n",
    "xtrain,xtest,ytrain,ytest = train_test_split(x,y,test_size=0.3,random_state=0)"
   ]
  },
  {
   "cell_type": "code",
   "execution_count": 13,
   "id": "fa542f43",
   "metadata": {},
   "outputs": [],
   "source": [
    "#Normalise the data\n",
    "from sklearn.preprocessing import StandardScaler\n",
    "std = StandardScaler()\n",
    "x_train = std.fit_transform(xtrain)\n",
    "x_test = std.transform(xtest)"
   ]
  },
  {
   "cell_type": "code",
   "execution_count": 15,
   "id": "f0231254",
   "metadata": {},
   "outputs": [
    {
     "name": "stdout",
     "output_type": "stream",
     "text": [
      "Before Sampling Counter({0: 27953, 1: 3694})\n"
     ]
    }
   ],
   "source": [
    "print('Before Sampling',Counter(ytrain))"
   ]
  },
  {
   "cell_type": "code",
   "execution_count": 16,
   "id": "28ba4f3e",
   "metadata": {},
   "outputs": [],
   "source": [
    "#Define under sampling\n",
    "undersampler = RandomUnderSampler(sampling_strategy='majority')"
   ]
  },
  {
   "cell_type": "code",
   "execution_count": 17,
   "id": "a7c1fe07",
   "metadata": {},
   "outputs": [],
   "source": [
    "#Resampling\n",
    "x_train_under,y_train_under = undersampler.fit_resample(x_train,ytrain)"
   ]
  },
  {
   "cell_type": "code",
   "execution_count": 18,
   "id": "98f458de",
   "metadata": {},
   "outputs": [
    {
     "name": "stdout",
     "output_type": "stream",
     "text": [
      "Before Sampling Counter({0: 3694, 1: 3694})\n"
     ]
    }
   ],
   "source": [
    "print('Before Sampling',Counter(y_train_under))"
   ]
  },
  {
   "cell_type": "code",
   "execution_count": 23,
   "id": "e55a64cc",
   "metadata": {},
   "outputs": [],
   "source": [
    "#Import SVM libraries\n",
    "from sklearn.svm import SVC\n",
    "model = SVC()\n",
    "clf_SVM_under = model.fit(x_train_under,y_train_under)"
   ]
  },
  {
   "cell_type": "code",
   "execution_count": 24,
   "id": "eeb743e6",
   "metadata": {},
   "outputs": [],
   "source": [
    "#Prediction\n",
    "pred_under = clf_SVM_under.predict(x_test)"
   ]
  },
  {
   "cell_type": "code",
   "execution_count": 27,
   "id": "ba659a7c",
   "metadata": {},
   "outputs": [
    {
     "name": "stdout",
     "output_type": "stream",
     "text": [
      "ROC AUC Score for undersampled data:  0.8250282404047447\n",
      "\n",
      "Accuracy of the model after under sampling: 0.8058094957239752\n",
      "Confusion Matrix after under sampling:\n",
      " [[9574 2395]\n",
      " [ 239 1356]]\n"
     ]
    }
   ],
   "source": [
    "#Model evaluation\n",
    "from sklearn.metrics import roc_auc_score\n",
    "print(\"ROC AUC Score for undersampled data: \",roc_auc_score(ytest,pred_under));print()\n",
    "\n",
    "from sklearn.metrics import confusion_matrix,accuracy_score\n",
    "print('Accuracy of the model after under sampling:',accuracy_score(ytest,pred_under))\n",
    "print('Confusion Matrix after under sampling:\\n',confusion_matrix(ytest,pred_under))"
   ]
  },
  {
   "cell_type": "markdown",
   "id": "9edb50e1",
   "metadata": {},
   "source": [
    "# Oversampling"
   ]
  },
  {
   "cell_type": "code",
   "execution_count": 36,
   "id": "21cbc11a",
   "metadata": {},
   "outputs": [],
   "source": [
    "#Defining oversampling and resampling\n",
    "\n",
    "from imblearn.over_sampling import SMOTE\n",
    "over_sampler = SMOTE(sampling_strategy='minority')\n",
    "x_train_over,y_train_over = over_sampler.fit_resample(x_train,ytrain)"
   ]
  },
  {
   "cell_type": "code",
   "execution_count": 37,
   "id": "d19897e9",
   "metadata": {},
   "outputs": [],
   "source": [
    "#Import SVM libraries\n",
    "\n",
    "from sklearn.svm import SVC\n",
    "model = SVC()\n",
    "clf_SVM_over = model.fit(x_train_over,y_train_over)"
   ]
  },
  {
   "cell_type": "code",
   "execution_count": 40,
   "id": "8a41d84e",
   "metadata": {},
   "outputs": [],
   "source": [
    "#Prediction\n",
    "pred_over = clf_SVM_over.predict(x_test)"
   ]
  },
  {
   "cell_type": "code",
   "execution_count": 41,
   "id": "8ebcf0ba",
   "metadata": {},
   "outputs": [
    {
     "name": "stdout",
     "output_type": "stream",
     "text": [
      "ROC AUC Score for oversampling data:  0.8157216487420088\n",
      "\n",
      "Accuracy of the model after over sampling: 0.8224712474196402\n",
      "Confusion Matrix after over sampling:\n",
      " [[9869 2100]\n",
      " [ 308 1287]]\n"
     ]
    }
   ],
   "source": [
    "#Model evaluation\n",
    "from sklearn.metrics import roc_auc_score\n",
    "print(\"ROC AUC Score for oversampling data: \",roc_auc_score(ytest,pred_over));print()\n",
    "\n",
    "from sklearn.metrics import confusion_matrix,accuracy_score\n",
    "print('Accuracy of the model after over sampling:',accuracy_score(ytest,pred_over))\n",
    "print('Confusion Matrix after over sampling:\\n',confusion_matrix(ytest,pred_over))"
   ]
  },
  {
   "cell_type": "markdown",
   "id": "66ce58a9",
   "metadata": {},
   "source": [
    "# Cross Validation"
   ]
  },
  {
   "cell_type": "code",
   "execution_count": 46,
   "id": "f5187658",
   "metadata": {},
   "outputs": [],
   "source": [
    "#normalise the data\n",
    "from sklearn.preprocessing import StandardScaler\n",
    "std = StandardScaler()\n",
    "x_norm = std.fit_transform(x)"
   ]
  },
  {
   "cell_type": "code",
   "execution_count": 66,
   "id": "426ba11f",
   "metadata": {},
   "outputs": [],
   "source": [
    "from sklearn.model_selection import KFold,StratifiedKFold,cross_val_score\n",
    "from sklearn.tree import DecisionTreeClassifier\n",
    "kfold_cv = KFold(10)\n",
    "strat_cv = StratifiedKFold(n_splits=10)\n",
    "model = DecisionTreeClassifier()\n",
    "result_Kfold = cross_val_score(model,x_norm,y,cv = kfold_cv)\n",
    "result_strat_fold = cross_val_score(model,x_norm,y,cv=strat_cv)"
   ]
  },
  {
   "cell_type": "code",
   "execution_count": 67,
   "id": "d18373a7",
   "metadata": {},
   "outputs": [
    {
     "name": "stdout",
     "output_type": "stream",
     "text": [
      "K-FOLD ACCURACY 0.7973912101773619\n",
      "\n",
      "STRATIFIED-CV 0.620396325330677\n"
     ]
    }
   ],
   "source": [
    "print('K-FOLD ACCURACY',np.mean(result_Kfold));print()\n",
    "print('STRATIFIED-CV',np.mean(result_strat_fold))"
   ]
  }
 ],
 "metadata": {
  "kernelspec": {
   "display_name": "Python 3",
   "language": "python",
   "name": "python3"
  },
  "language_info": {
   "codemirror_mode": {
    "name": "ipython",
    "version": 3
   },
   "file_extension": ".py",
   "mimetype": "text/x-python",
   "name": "python",
   "nbconvert_exporter": "python",
   "pygments_lexer": "ipython3",
   "version": "3.8.8"
  }
 },
 "nbformat": 4,
 "nbformat_minor": 5
}
