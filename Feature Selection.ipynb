{
 "cells": [
  {
   "cell_type": "markdown",
   "id": "8b9c9b7c",
   "metadata": {},
   "source": [
    "# Feature Selection - Dropping Constant Feature"
   ]
  },
  {
   "cell_type": "code",
   "execution_count": 6,
   "id": "efa8e56a",
   "metadata": {},
   "outputs": [],
   "source": [
    "#Creating data\n",
    "import pandas as pd\n",
    "data = pd.DataFrame({'A':[1,2,4,1,2],'B':[4,5,6,7,8],'C':[0,0,0,0,0],'D':[1,1,1,1,1]})"
   ]
  },
  {
   "cell_type": "code",
   "execution_count": 7,
   "id": "cfac53c5",
   "metadata": {},
   "outputs": [
    {
     "data": {
      "text/plain": [
       "VarianceThreshold(threshold=0)"
      ]
     },
     "execution_count": 7,
     "metadata": {},
     "output_type": "execute_result"
    }
   ],
   "source": [
    "#Removing Zero variance feature\n",
    "from sklearn.feature_selection import VarianceThreshold\n",
    "var_thresh = VarianceThreshold(threshold=0)\n",
    "var_thresh.fit(data)"
   ]
  },
  {
   "cell_type": "code",
   "execution_count": null,
   "id": "9963e780",
   "metadata": {},
   "outputs": [],
   "source": []
  }
 ],
 "metadata": {
  "kernelspec": {
   "display_name": "Python 3",
   "language": "python",
   "name": "python3"
  },
  "language_info": {
   "codemirror_mode": {
    "name": "ipython",
    "version": 3
   },
   "file_extension": ".py",
   "mimetype": "text/x-python",
   "name": "python",
   "nbconvert_exporter": "python",
   "pygments_lexer": "ipython3",
   "version": "3.8.8"
  }
 },
 "nbformat": 4,
 "nbformat_minor": 5
}
